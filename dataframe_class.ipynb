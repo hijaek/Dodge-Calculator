{
 "cells": [
  {
   "cell_type": "code",
   "execution_count": 32,
   "metadata": {
    "collapsed": true
   },
   "outputs": [],
   "source": [
    "import pandas as pd\n",
    "import statsmodels.api as sm\n",
    "import pylab as pl\n",
    "import numpy as np\n",
    "import matplotlib.pyplot as plt\n",
    "import csv\n",
    "\n",
    "\n",
    "\n",
    "class loldf(object):\n",
    "    #csv must be string \"johndoe.csv\" <- need to check this again\n",
    "    def __init__(self, csv):\n",
    "        self.csv = csv\n",
    "        self.df = self.addindex(csv)\n",
    "        #blueside dataframe\n",
    "        self.blue = hijaeframe(df).iloc[0::2, :]\n",
    "        #redside dataframe\n",
    "        self.red = hijaeframe(df).iloc[1::2, :]\n",
    "    \n",
    "    #indexing by team. there must be a better way of doing this though...\n",
    "    def addindex(dfr):\n",
    "        index_col=[]\n",
    "        for i in range(0, len(dfr)/5):\n",
    "            index_col.append(i)\n",
    "            index_col.append(i)\n",
    "            index_col.append(i)\n",
    "            index_col.append(i)\n",
    "            index_col.append(i)\n",
    "        dfr['index']=index_col\n",
    "    \n",
    "    #creating final dataframe    \n",
    "    def hijaeframe(dfr):\n",
    "        ##group by index and sum\n",
    "        partitioned=dfr.iloc[::,5:]\n",
    "        summed=partitioned.groupby('index').sum()\n",
    "\n",
    "        #final dataframe\n",
    "        loldf= pd.DataFrame()\n",
    "        loldf['winner']=[dfr['winner'][i] for i in range(0,len(dfr), 5)]\n",
    "\n",
    "        #side - dummy variable\n",
    "        side_dummy = pd.get_dummies([dfr['side'][i] for i in range(1,len(dfr), 5)], prefix='side')\n",
    "        loldf[[i for i in side_dummy.columns]] = side_dummy\n",
    "\n",
    "        #rest of the variable creation + addition\n",
    "        loldf[[i for i in summed.columns]]=summed[[i for i in summed.columns]]\n",
    "        loldf['newwin']=(loldf['win']/loldf['game_cnt'])*100  ##\n",
    "        loldf['topsin']=loldf['tpg']*(loldf['kpg']+loldf['apg'])\n",
    "        loldf['ggg']=( (loldf['ddpg']-(loldf['cs']*750))/ (loldf['dpg']))\n",
    "        loldf['kapg']=loldf['kpg']+loldf['apg']\n",
    "        return loldf\n",
    "    "
   ]
  },
  {
   "cell_type": "code",
   "execution_count": 33,
   "metadata": {
    "collapsed": false
   },
   "outputs": [
    {
     "ename": "TypeError",
     "evalue": "addindex() takes exactly 1 argument (2 given)",
     "output_type": "error",
     "traceback": [
      "\u001b[1;31m---------------------------------------------------------------------------\u001b[0m",
      "\u001b[1;31mTypeError\u001b[0m                                 Traceback (most recent call last)",
      "\u001b[1;32m<ipython-input-33-571f30007f4a>\u001b[0m in \u001b[0;36m<module>\u001b[1;34m()\u001b[0m\n\u001b[0;32m      1\u001b[0m \u001b[0mhijae_csv\u001b[0m\u001b[1;33m=\u001b[0m\u001b[0mpd\u001b[0m\u001b[1;33m.\u001b[0m\u001b[0mread_csv\u001b[0m\u001b[1;33m(\u001b[0m\u001b[1;34m\"hijaedata.csv\"\u001b[0m\u001b[1;33m)\u001b[0m\u001b[1;33m\u001b[0m\u001b[0m\n\u001b[1;32m----> 2\u001b[1;33m \u001b[0mhijae\u001b[0m  \u001b[1;33m=\u001b[0m \u001b[0mloldf\u001b[0m\u001b[1;33m(\u001b[0m\u001b[0mhijae_csv\u001b[0m\u001b[1;33m)\u001b[0m\u001b[1;33m\u001b[0m\u001b[0m\n\u001b[0m",
      "\u001b[1;32m<ipython-input-32-92cd0368c84e>\u001b[0m in \u001b[0;36m__init__\u001b[1;34m(self, csv)\u001b[0m\n\u001b[0;32m     12\u001b[0m     \u001b[1;32mdef\u001b[0m \u001b[0m__init__\u001b[0m\u001b[1;33m(\u001b[0m\u001b[0mself\u001b[0m\u001b[1;33m,\u001b[0m \u001b[0mcsv\u001b[0m\u001b[1;33m)\u001b[0m\u001b[1;33m:\u001b[0m\u001b[1;33m\u001b[0m\u001b[0m\n\u001b[0;32m     13\u001b[0m         \u001b[0mself\u001b[0m\u001b[1;33m.\u001b[0m\u001b[0mcsv\u001b[0m \u001b[1;33m=\u001b[0m \u001b[0mcsv\u001b[0m\u001b[1;33m\u001b[0m\u001b[0m\n\u001b[1;32m---> 14\u001b[1;33m         \u001b[0mself\u001b[0m\u001b[1;33m.\u001b[0m\u001b[0mdf\u001b[0m \u001b[1;33m=\u001b[0m \u001b[0mself\u001b[0m\u001b[1;33m.\u001b[0m\u001b[0maddindex\u001b[0m\u001b[1;33m(\u001b[0m\u001b[0mcsv\u001b[0m\u001b[1;33m)\u001b[0m\u001b[1;33m\u001b[0m\u001b[0m\n\u001b[0m\u001b[0;32m     15\u001b[0m         \u001b[1;31m#blueside dataframe\u001b[0m\u001b[1;33m\u001b[0m\u001b[1;33m\u001b[0m\u001b[0m\n\u001b[0;32m     16\u001b[0m         \u001b[0mself\u001b[0m\u001b[1;33m.\u001b[0m\u001b[0mblue\u001b[0m \u001b[1;33m=\u001b[0m \u001b[0mhijaeframe\u001b[0m\u001b[1;33m(\u001b[0m\u001b[0mdf\u001b[0m\u001b[1;33m)\u001b[0m\u001b[1;33m.\u001b[0m\u001b[0miloc\u001b[0m\u001b[1;33m[\u001b[0m\u001b[1;36m0\u001b[0m\u001b[1;33m:\u001b[0m\u001b[1;33m:\u001b[0m\u001b[1;36m2\u001b[0m\u001b[1;33m,\u001b[0m \u001b[1;33m:\u001b[0m\u001b[1;33m]\u001b[0m\u001b[1;33m\u001b[0m\u001b[0m\n",
      "\u001b[1;31mTypeError\u001b[0m: addindex() takes exactly 1 argument (2 given)"
     ]
    }
   ],
   "source": [
    "hijae_csv=pd.read_csv(\"hijaedata.csv\")\n",
    "hijae  = loldf(hijae_csv)"
   ]
  },
  {
   "cell_type": "code",
   "execution_count": null,
   "metadata": {
    "collapsed": true
   },
   "outputs": [],
   "source": []
  }
 ],
 "metadata": {
  "kernelspec": {
   "display_name": "Python 2",
   "language": "python",
   "name": "python2"
  },
  "language_info": {
   "codemirror_mode": {
    "name": "ipython",
    "version": 2
   },
   "file_extension": ".py",
   "mimetype": "text/x-python",
   "name": "python",
   "nbconvert_exporter": "python",
   "pygments_lexer": "ipython2",
   "version": "2.7.10"
  }
 },
 "nbformat": 4,
 "nbformat_minor": 0
}
