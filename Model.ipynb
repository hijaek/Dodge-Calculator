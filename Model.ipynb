{
 "cells": [
  {
   "cell_type": "code",
   "execution_count": 1,
   "metadata": {
    "collapsed": false
   },
   "outputs": [],
   "source": [
    "## classing models",
    "import numpy as np\n",
    "import pandas as pd\n",
    "import statsmodels.api as sm\n",
    "import matplotlib.pyplot as plt\n",
    "from patsy import dmatrices\n",
    "from sklearn.linear_model import LogisticRegression\n",
    "from sklearn.cross_validation import train_test_split\n",
    "from sklearn.cross_validation import cross_val_score\n",
    "from sklearn import metrics\n",
    "from sklearn import linear_model\n"
   ]
  },
  {
   "cell_type": "code",
   "execution_count": 99,
   "metadata": {
    "collapsed": false
   },
   "outputs": [
    {
     "data": {
      "text/html": [
       "<div>\n",
       "<table border=\"1\" class=\"dataframe\">\n",
       "  <thead>\n",
       "    <tr style=\"text-align: right;\">\n",
       "      <th></th>\n",
       "      <th>winner</th>\n",
       "      <th>side_blue</th>\n",
       "      <th>side_red</th>\n",
       "      <th>game_cnt</th>\n",
       "      <th>win</th>\n",
       "      <th>loss</th>\n",
       "      <th>win_rate</th>\n",
       "      <th>kda</th>\n",
       "      <th>kpg</th>\n",
       "      <th>dpg</th>\n",
       "      <th>apg</th>\n",
       "      <th>gpg</th>\n",
       "      <th>ddpg</th>\n",
       "      <th>dtpg</th>\n",
       "      <th>tpg</th>\n",
       "      <th>cs</th>\n",
       "      <th>newwin</th>\n",
       "      <th>topsin</th>\n",
       "      <th>ggg</th>\n",
       "      <th>kapg</th>\n",
       "    </tr>\n",
       "  </thead>\n",
       "  <tbody>\n",
       "    <tr>\n",
       "      <th>0</th>\n",
       "      <td>True</td>\n",
       "      <td>0</td>\n",
       "      <td>1</td>\n",
       "      <td>171</td>\n",
       "      <td>84</td>\n",
       "      <td>87</td>\n",
       "      <td>2.524492</td>\n",
       "      <td>13.289856</td>\n",
       "      <td>29.129149</td>\n",
       "      <td>30.615931</td>\n",
       "      <td>48.800757</td>\n",
       "      <td>54683.175648</td>\n",
       "      <td>508810.86768</td>\n",
       "      <td>126002.89770</td>\n",
       "      <td>4.207736</td>\n",
       "      <td>578.973080</td>\n",
       "      <td>49.122807</td>\n",
       "      <td>327.908454</td>\n",
       "      <td>2436.021225</td>\n",
       "      <td>77.929906</td>\n",
       "    </tr>\n",
       "    <tr>\n",
       "      <th>1</th>\n",
       "      <td>True</td>\n",
       "      <td>0</td>\n",
       "      <td>1</td>\n",
       "      <td>524</td>\n",
       "      <td>340</td>\n",
       "      <td>184</td>\n",
       "      <td>3.112952</td>\n",
       "      <td>15.301384</td>\n",
       "      <td>32.467784</td>\n",
       "      <td>27.365665</td>\n",
       "      <td>48.919751</td>\n",
       "      <td>59173.322780</td>\n",
       "      <td>661648.98620</td>\n",
       "      <td>117292.67598</td>\n",
       "      <td>5.184850</td>\n",
       "      <td>670.586541</td>\n",
       "      <td>64.885496</td>\n",
       "      <td>421.982155</td>\n",
       "      <td>5799.569765</td>\n",
       "      <td>81.387535</td>\n",
       "    </tr>\n",
       "    <tr>\n",
       "      <th>2</th>\n",
       "      <td>True</td>\n",
       "      <td>0</td>\n",
       "      <td>1</td>\n",
       "      <td>192</td>\n",
       "      <td>106</td>\n",
       "      <td>86</td>\n",
       "      <td>2.987665</td>\n",
       "      <td>14.876406</td>\n",
       "      <td>37.800754</td>\n",
       "      <td>29.220006</td>\n",
       "      <td>47.722817</td>\n",
       "      <td>60760.547372</td>\n",
       "      <td>659445.19410</td>\n",
       "      <td>130546.56087</td>\n",
       "      <td>5.090191</td>\n",
       "      <td>631.071664</td>\n",
       "      <td>55.208333</td>\n",
       "      <td>435.331326</td>\n",
       "      <td>6370.342511</td>\n",
       "      <td>85.523571</td>\n",
       "    </tr>\n",
       "    <tr>\n",
       "      <th>3</th>\n",
       "      <td>False</td>\n",
       "      <td>0</td>\n",
       "      <td>1</td>\n",
       "      <td>127</td>\n",
       "      <td>68</td>\n",
       "      <td>59</td>\n",
       "      <td>2.464835</td>\n",
       "      <td>14.576752</td>\n",
       "      <td>26.320000</td>\n",
       "      <td>27.150916</td>\n",
       "      <td>48.227363</td>\n",
       "      <td>58085.646520</td>\n",
       "      <td>645821.42210</td>\n",
       "      <td>105178.93227</td>\n",
       "      <td>4.944359</td>\n",
       "      <td>785.272711</td>\n",
       "      <td>53.543307</td>\n",
       "      <td>368.588921</td>\n",
       "      <td>2094.474072</td>\n",
       "      <td>74.547363</td>\n",
       "    </tr>\n",
       "    <tr>\n",
       "      <th>4</th>\n",
       "      <td>False</td>\n",
       "      <td>0</td>\n",
       "      <td>1</td>\n",
       "      <td>199</td>\n",
       "      <td>106</td>\n",
       "      <td>93</td>\n",
       "      <td>2.742903</td>\n",
       "      <td>12.927348</td>\n",
       "      <td>27.499951</td>\n",
       "      <td>30.502745</td>\n",
       "      <td>47.831243</td>\n",
       "      <td>56505.324900</td>\n",
       "      <td>609298.65520</td>\n",
       "      <td>112985.58092</td>\n",
       "      <td>3.875321</td>\n",
       "      <td>598.798477</td>\n",
       "      <td>53.266332</td>\n",
       "      <td>291.932592</td>\n",
       "      <td>5251.979661</td>\n",
       "      <td>75.331194</td>\n",
       "    </tr>\n",
       "  </tbody>\n",
       "</table>\n",
       "</div>"
      ],
      "text/plain": [
       "  winner  side_blue  side_red  game_cnt  win  loss  win_rate        kda  \\\n",
       "0   True          0         1       171   84    87  2.524492  13.289856   \n",
       "1   True          0         1       524  340   184  3.112952  15.301384   \n",
       "2   True          0         1       192  106    86  2.987665  14.876406   \n",
       "3  False          0         1       127   68    59  2.464835  14.576752   \n",
       "4  False          0         1       199  106    93  2.742903  12.927348   \n",
       "\n",
       "         kpg        dpg        apg           gpg          ddpg          dtpg  \\\n",
       "0  29.129149  30.615931  48.800757  54683.175648  508810.86768  126002.89770   \n",
       "1  32.467784  27.365665  48.919751  59173.322780  661648.98620  117292.67598   \n",
       "2  37.800754  29.220006  47.722817  60760.547372  659445.19410  130546.56087   \n",
       "3  26.320000  27.150916  48.227363  58085.646520  645821.42210  105178.93227   \n",
       "4  27.499951  30.502745  47.831243  56505.324900  609298.65520  112985.58092   \n",
       "\n",
       "        tpg          cs     newwin      topsin          ggg       kapg  \n",
       "0  4.207736  578.973080  49.122807  327.908454  2436.021225  77.929906  \n",
       "1  5.184850  670.586541  64.885496  421.982155  5799.569765  81.387535  \n",
       "2  5.090191  631.071664  55.208333  435.331326  6370.342511  85.523571  \n",
       "3  4.944359  785.272711  53.543307  368.588921  2094.474072  74.547363  \n",
       "4  3.875321  598.798477  53.266332  291.932592  5251.979661  75.331194  "
      ]
     },
     "execution_count": 99,
     "metadata": {},
     "output_type": "execute_result"
    }
   ],
   "source": [
    "###loading ...\n",
    "\n",
    "#trainset\n",
    "hijae = pd.read_csv(\"hijae_red.csv\")\n",
    "\n",
    "#two test sets\n",
    "hikari = pd.read_csv(\"hikari_red.csv\").iloc[::,1:]\n",
    "puree = pd.read_csv(\"puree_red.csv\").iloc[::,1:]\n",
    "\n",
    "\n",
    "hikari.head()\n"
   ]
  },
  {
   "cell_type": "code",
   "execution_count": 100,
   "metadata": {
    "collapsed": false
   },
   "outputs": [
    {
     "name": "stdout",
     "output_type": "stream",
     "text": [
      "           0                   1                    2\n",
      "0  Intercept    [-11.5572386899]  [9.56654262533e-06]\n",
      "1        tpg     [1.72484784525]      [5.61166712292]\n",
      "2        dpg   [0.0483676860537]      [1.04955649167]\n",
      "3   win_rate     [5.46011776924]      [235.125113242]\n",
      "4     topsin  [-0.0238726284941]     [0.976410068659]\n",
      "5       kapg    [0.102330151278]      [1.10774913616]\n"
     ]
    }
   ],
   "source": [
    "##The variable selection has been done in R by forward/backward selection. Will soon post R code on this git as well\n",
    "\n",
    "##EDITION## Manual selection of variables shows similar result. I can provide more logical explaination to this seleciton\n",
    "\n",
    "y, X = dmatrices('winner ~ tpg + dpg + win_rate + topsin + kapg', hijae, return_type=\"dataframe\")\n",
    "#flatten y into an array\n",
    "y = np.ravel(y.iloc[::,1:])\n",
    "\n",
    "\n",
    "# examine the coefficients\n",
    "\n",
    "model = LogisticRegression(C=10000000)\n",
    "model = model.fit(X,y)\n",
    "model.score(X,y)\n",
    "\n",
    "print pd.DataFrame(zip(X.columns, np.transpose(model.coef_), np.exp(np.transpose(model.coef_))))\n"
   ]
  },
  {
   "cell_type": "code",
   "execution_count": 101,
   "metadata": {
    "collapsed": false
   },
   "outputs": [
    {
     "name": "stdout",
     "output_type": "stream",
     "text": [
      "0.85393258427\n"
     ]
    },
    {
     "data": {
      "text/plain": [
       "0.82758620689655171"
      ]
     },
     "execution_count": 101,
     "metadata": {},
     "output_type": "execute_result"
    }
   ],
   "source": [
    "##i'm just setting up matrices for test sets\n",
    "\n",
    "y2, X2 = dmatrices('winner ~ tpg + dpg + win_rate + topsin + kapg', hikari, return_type=\"dataframe\")\n",
    "y2 = np.ravel(y2.iloc[::,1:])\n",
    "print model.score(X2,y2)\n",
    "\n",
    "y3, X3 = dmatrices('winner ~ tpg + dpg + win_rate + topsin + kapg', puree, return_type=\"dataframe\")\n",
    "y3 = np.ravel(y3.iloc[::,1:])\n",
    "model.score(X3,y3)"
   ]
  },
  {
   "cell_type": "code",
   "execution_count": 102,
   "metadata": {
    "collapsed": false
   },
   "outputs": [
    {
     "name": "stdout",
     "output_type": "stream",
     "text": [
      "training set: 0.4475\n",
      "hikari set: 0.52808988764\n",
      "puree set: 0.525862068966\n"
     ]
    }
   ],
   "source": [
    "##What's the actual win rate for each sets of data?\n",
    "\n",
    "#training set\n",
    "print \"training set:\", y.mean()\n",
    "\n",
    "#test sets\n",
    "print \"hikari set:\", y2.mean()\n",
    "print \"puree set:\", y3.mean()"
   ]
  },
  {
   "cell_type": "code",
   "execution_count": null,
   "metadata": {
    "collapsed": true
   },
   "outputs": [],
   "source": [
    "\n",
    "def mk_checkdf(model_ob, y_ob, x_ob, percentage):\n",
    "    to55=[]\n",
    "    for score in model_ob.predict_proba(x_ob)[:,1]:\n",
    "        if score >= percentage:\n",
    "            to55.append(1)\n",
    "        else:\n",
    "            to55.append(0)\n",
    "    \n",
    "    checkdf=pd.DataFrame()\n",
    "    checkdf['score']=model.predict_proba(x_ob)[:,1]\n",
    "    checkdf['prediction']=model.predict(x_ob)\n",
    "    checkdf['real']=y_ob\n",
    "    checkdf['to55']=to55\n",
    "    return checkdf\n",
    "\n",
    "\n",
    "def accuracy(df, win):\n",
    "    popo=0\n",
    "    pone=0\n",
    "    for i in range(0, len(df)):\n",
    "        if df['to55'][i] == win:\n",
    "            if df['real'][i] == win:\n",
    "                popo=popo+1\n",
    "            else:\n",
    "                pone=pone+1\n",
    "    return float(popo)/float(popo+pone)\n",
    "    #popo+pone = po\n",
    "    \n",
    "checkdf= mk_checkdf(model,y2, X2, 0.6)\n",
    "#print \"hikari win pred\", accuracy(checkdf, 1)\n",
    "#print \"hikari loss pred\", accuracy(checkdf, 0)\n",
    "\n",
    "checkdf= mk_checkdf(model,y3, X3, 0.5)\n",
    "#print \"puree win\", accuracy(checkdf, 1)\n",
    "#print \"puree loss pred\", accuracy(checkdf, 0)\n",
    "#y2.mean()*accuracy(checkdf, 1)+ (1-y2.mean())*accuracy(checkdf, 0)\n",
    "\n",
    "\n",
    "#print \"accuracy\", \n",
    "print \"mean\",y.mean()\n",
    "checkdf = mk_checkdf(model, y, X, 0.5)\n",
    "print \"hijae win\", accuracy(checkdf, 1)\n",
    "print float(y.mean()*float(accuracy(checkdf, 1))+ (1-y.mean())*float(accuracy(checkdf, 0)))\n",
    "model.score(X,y)"
   ]
  }
 ],
 "metadata": {
  "kernelspec": {
   "display_name": "Python 2",
   "language": "python",
   "name": "python2"
  },
  "language_info": {
   "codemirror_mode": {
    "name": "ipython",
    "version": 2
   },
   "file_extension": ".py",
   "mimetype": "text/x-python",
   "name": "python",
   "nbconvert_exporter": "python",
   "pygments_lexer": "ipython2",
   "version": "2.7.10"
  }
 },
 "nbformat": 4,
 "nbformat_minor": 0
}
