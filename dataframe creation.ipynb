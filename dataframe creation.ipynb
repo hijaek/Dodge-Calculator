{
 "cells": [
  {
   "cell_type": "code",
   "execution_count": 29,
   "metadata": {
    "collapsed": false
   },
   "outputs": [],
   "source": [
    "import pandas as pd\n",
    "import statsmodels.api as sm\n",
    "import pylab as pl\n",
    "import numpy as np\n",
    "import matplotlib.pyplot as plt\n",
    "import csv\n",
    "%matplotlib inline\n",
    "\n",
    "hijae = pd.read_csv(\"hijaedata.csv\")\n",
    "puree = pd.read_csv(\"pureedata.csv\")[:-1]\n",
    "hikari= pd.read_csv(\"hikaridata.csv\")[:-1]\n",
    "\n",
    "def addindex(dfr):\n",
    "    index_col=[]\n",
    "    for i in range(0, len(dfr)/5):\n",
    "        index_col.append(i)\n",
    "        index_col.append(i)\n",
    "        index_col.append(i)\n",
    "        index_col.append(i)\n",
    "        index_col.append(i)\n",
    "    dfr['index']=index_col\n",
    "\n",
    "\n",
    "    \n",
    "addindex(hijae)\n",
    "addindex(hikari)\n",
    "addindex(puree)\n",
    "#df.head(10)\n",
    "#df.tail(15)\n",
    "#hikari.head()"
   ]
  },
  {
   "cell_type": "code",
   "execution_count": 36,
   "metadata": {
    "collapsed": false
   },
   "outputs": [],
   "source": [
    "#partitioned=df[:].ix[:,5:]\n",
    "#summed=partitioned.groupby('index').sum()\n",
    "#print summed.head()\n",
    "#print len(summed.columns)\n",
    "#아 이래서 클래스를 쓰는구나...;;\n",
    "\n",
    "def hijaeframe(dfr):\n",
    "    ##groupby index and sum\n",
    "    partitioned=dfr.iloc[::,5:]\n",
    "    summed=partitioned.groupby('index').sum()\n",
    "    \n",
    "    #final dataframe\n",
    "    loldf= pd.DataFrame()\n",
    "    loldf['winner']=[dfr['winner'][i] for i in range(0,len(dfr), 5)]\n",
    "    \n",
    "    #side - dummy variable\n",
    "    side_dummy = pd.get_dummies([dfr['side_1'][i] for i in range(1,len(dfr), 5)], prefix='side')\n",
    "    loldf[[i for i in side_dummy.columns]] = side_dummy\n",
    "    \n",
    "    loldf[[i for i in summed.columns]]=summed[[i for i in summed.columns]]\n",
    "    loldf['newwin']=(loldf['win']/loldf['game_cnt'])*100\n",
    "    loldf['topsin']=loldf['tpg']*(loldf['kpg']+loldf['apg'])\n",
    "    loldf['ggg']=( (loldf['ddpg']-(loldf['cs']*750))/ (loldf['dpg']))\n",
    "    loldf['kapg']=loldf['kpg']+loldf['apg']\n",
    "    return loldf\n",
    "\n",
    "model_blue = hijaeframe(hijae).iloc[1::2, :]\n",
    "model_blue.to_csv(\"hijae_red.csv\")\n",
    "#model_blue.head()\n",
    "\n",
    "#hijaeframe(puree).iloc[1::2, :].to_csv(\"puree_red.csv\")\n",
    "#hijaeframe(hikari).iloc[1::2, :].to_csv(\"hikari_red.csv\")\n"
   ]
  },
  {
   "cell_type": "code",
   "execution_count": 37,
   "metadata": {
    "collapsed": false
   },
   "outputs": [
    {
     "name": "stdout",
     "output_type": "stream",
     "text": [
      "Optimization terminated successfully.\n",
      "         Current function value: 0.467415\n",
      "         Iterations 7\n",
      "                           Logit Regression Results                           \n",
      "==============================================================================\n",
      "Dep. Variable:                 winner   No. Observations:                  400\n",
      "Model:                          Logit   Df Residuals:                      395\n",
      "Method:                           MLE   Df Model:                            4\n",
      "Date:                Mon, 28 Mar 2016   Pseudo R-squ.:                  0.3202\n",
      "Time:                        14:23:54   Log-Likelihood:                -186.97\n",
      "converged:                       True   LL-Null:                       -275.05\n",
      "                                        LLR p-value:                 4.960e-37\n",
      "==============================================================================\n",
      "                 coef    std err          z      P>|z|      [95.0% Conf. Int.]\n",
      "------------------------------------------------------------------------------\n",
      "tpg           -2.9127      0.490     -5.948      0.000        -3.873    -1.953\n",
      "dpg            0.0256      0.046      0.555      0.579        -0.065     0.116\n",
      "win_rate       5.3476      0.654      8.180      0.000         4.066     6.629\n",
      "topsin         0.0369      0.006      5.998      0.000         0.025     0.049\n",
      "kapg          -0.1886      0.032     -5.928      0.000        -0.251    -0.126\n",
      "==============================================================================\n",
      "tpg           0.054328\n",
      "dpg           1.025904\n",
      "win_rate    210.111528\n",
      "topsin        1.037581\n",
      "kapg          0.828098\n",
      "dtype: float64\n"
     ]
    }
   ],
   "source": [
    "def hijaelogr(dfr):\n",
    "    logr = sm.Logit(dfr['winner'], dfr[['tpg', 'dpg', 'win_rate', 'topsin', 'kapg']])\n",
    "    return logr\n",
    "\n",
    "###  make this into class-objects ###\n",
    "### \n",
    "hijaem = hijaelogr(model_blue).fit()\n",
    "print hijaem.summary()\n",
    "print np.exp(hijaem.params)\n",
    "\n",
    "#print np.exp(hijaem.conf_int())"
   ]
  },
  {
   "cell_type": "code",
   "execution_count": 19,
   "metadata": {
    "collapsed": false
   },
   "outputs": [],
   "source": [
    "hikari_blue = hijaeframe(hikari).iloc[::2, :]\n",
    "\n",
    "hikari_blue.to_csv(\"hikari_blue.csv\")\n",
    "\n",
    "\n",
    "#a=hikari_blue[['newwin','topsin','kpg','dpg','apg','ggg']]\n",
    "#print a.head(5)\n",
    "#print np.exp(hijaem.params)\n",
    "#print (np.exp(hijaem.params) * model_blue).head(5)\n",
    "#print hijaem.predict()[:5]\n",
    "\n"
   ]
  },
  {
   "cell_type": "code",
   "execution_count": 110,
   "metadata": {
    "collapsed": false
   },
   "outputs": [],
   "source": [
    "######################################################\n",
    "c=pd.DataFrame()\n",
    "c['pred']=hijaem.predict(a)\n",
    "c['winner']=[z for z in hikari_blue['winner']]\n",
    "\n",
    "d=pd.DataFrame()\n",
    "d['pred']=hijaem.predict()\n",
    "d['winner']=[z for z in model_blue['winner']]\n",
    "d.to_csv(\"d_result.csv\")\n"
   ]
  }
 ],
 "metadata": {
  "kernelspec": {
   "display_name": "Python 2",
   "language": "python",
   "name": "python2"
  },
  "language_info": {
   "codemirror_mode": {
    "name": "ipython",
    "version": 2
   },
   "file_extension": ".py",
   "mimetype": "text/x-python",
   "name": "python",
   "nbconvert_exporter": "python",
   "pygments_lexer": "ipython2",
   "version": "2.7.10"
  }
 },
 "nbformat": 4,
 "nbformat_minor": 0
}
